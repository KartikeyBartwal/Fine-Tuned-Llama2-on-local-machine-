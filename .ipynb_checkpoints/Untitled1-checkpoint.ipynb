{
 "cells": [
  {
   "cell_type": "code",
   "execution_count": 2,
   "id": "ba171511",
   "metadata": {},
   "outputs": [],
   "source": [
    "from langchain import PromptTemplate\n",
    "from langchain.embeddings import HuggingFaceEmbeddings\n",
    "from langchain.vectorstores import Chroma\n",
    "from langchain.llms import CTransformers\n",
    "from langchain.chains import RetrievalQA\n",
    "import chainlit as cl\n",
    "\n",
    "DB_CHROMA_PATH = \"vectorstores/db_chroma\"\n",
    "\n",
    "custom_prompt_template = ''' Use the following pieces of information to answer the user's question. If you don't know the answer, please just say that you don't know the answer, don't try to make up an answer.\n",
    "\n",
    "Context: {context}\n",
    "Question: {question}\n",
    "\n",
    "Only return the helpful answer below and nothing else\n",
    "'''"
   ]
  },
  {
   "cell_type": "code",
   "execution_count": 3,
   "id": "f62bb620",
   "metadata": {},
   "outputs": [],
   "source": [
    "def set_custom_prompt():\n",
    "    '''\n",
    "    prompt template for QA retrieval for each vector stores\n",
    "    '''\n",
    "    \n",
    "    prompt = PromptTemplate(template = custom_prompt_template , \n",
    "                           input_variables = [\"context\" , \"question\"])\n",
    "    \n",
    "    return prompt"
   ]
  },
  {
   "cell_type": "code",
   "execution_count": 4,
   "id": "e0471591",
   "metadata": {},
   "outputs": [],
   "source": [
    "def load_llm():\n",
    "    llm = CTransformers(\n",
    "    \n",
    "        model = \"llama-2-7b-chat.ggmlv3.q8_0.bin\",\n",
    "        model_type = \"llama\",\n",
    "        max_new_tokens = 512,\n",
    "        temperature = 0.5\n",
    "    )\n",
    "    return llm"
   ]
  },
  {
   "cell_type": "code",
   "execution_count": 5,
   "id": "9ee08678",
   "metadata": {},
   "outputs": [],
   "source": [
    "def retrieval_qa_chain(llm , prompt , db):\n",
    "    qa_chain = RetrievalQA.from_chain_type(\n",
    "        llm = llm,\n",
    "        chain_type = \"stuff\",\n",
    "        retriever = db.as_retriever(search_kwargs = {'k' : 2}),\n",
    "        return_source_documents = False,\n",
    "        chain_type_kwargs = {'prompt' : prompt}\n",
    "    )\n",
    "    \n",
    "    return qa_chain"
   ]
  },
  {
   "cell_type": "code",
   "execution_count": 6,
   "id": "a558f5dd",
   "metadata": {},
   "outputs": [],
   "source": [
    "def qa_bot():\n",
    "    embeddings = HuggingFaceEmbeddings(model_name = 'sentence-transformers/all-MiniLM-L6-v2' , \n",
    "                                       model_kwargs = {'device' : 'cpu'})\n",
    "    db = Chroma(persist_directory = DB_CHROMA_PATH , \n",
    "                 embedding_function = embeddings)\n",
    "    llm = load_llm()\n",
    "    qa_prompt = set_custom_prompt()\n",
    "    qa = RetrievalQA.from_chain_type(llm= load_llm(), chain_type=\"map_reduce\", retriever=db.as_retriever(search_kwargs = {'k' : 2}))\n",
    "\n",
    "    return qa"
   ]
  },
  {
   "cell_type": "code",
   "execution_count": 7,
   "id": "a2c436b1",
   "metadata": {},
   "outputs": [],
   "source": [
    "def final_result(query):\n",
    "    qa_result = qa_bot()\n",
    "    response = qa_result({'query' : query})\n",
    "    return response"
   ]
  },
  {
   "cell_type": "code",
   "execution_count": 8,
   "id": "b58a95f4",
   "metadata": {},
   "outputs": [
    {
     "name": "stdout",
     "output_type": "stream",
     "text": [
      "2023-10-02 02:11:57 - Load pretrained SentenceTransformer: sentence-transformers/all-MiniLM-L6-v2\n",
      "2023-10-02 02:11:59 - Anonymized telemetry enabled. See https://docs.trychroma.com/telemetry for more information.\n"
     ]
    }
   ],
   "source": [
    "qa_bot_results = qa_bot()"
   ]
  },
  {
   "cell_type": "code",
   "execution_count": 9,
   "id": "f6f171d2",
   "metadata": {},
   "outputs": [],
   "source": [
    "query = \"Who is Oliver Twist ?\""
   ]
  },
  {
   "cell_type": "code",
   "execution_count": null,
   "id": "dc062da8",
   "metadata": {},
   "outputs": [
    {
     "data": {
      "application/vnd.jupyter.widget-view+json": {
       "model_id": "478b9475a3f24c0c92f51bf865a10806",
       "version_major": 2,
       "version_minor": 0
      },
      "text/plain": [
       "Batches:   0%|          | 0/1 [00:00<?, ?it/s]"
      ]
     },
     "metadata": {},
     "output_type": "display_data"
    }
   ],
   "source": [
    "qa_bot_results.run(query)"
   ]
  },
  {
   "cell_type": "code",
   "execution_count": null,
   "id": "0d58b959",
   "metadata": {},
   "outputs": [],
   "source": [
    "##################################################################################"
   ]
  },
  {
   "cell_type": "code",
   "execution_count": null,
   "id": "d79c66bd",
   "metadata": {},
   "outputs": [],
   "source": [
    "from langchain.chains import RetrievalQA\n",
    "from langchain.document_loaders import TextLoader\n",
    "from langchain.text_splitter import CharacterTextSplitter\n",
    "from langchain.vectorstores import Chroma"
   ]
  },
  {
   "cell_type": "code",
   "execution_count": null,
   "id": "ae1c97d2",
   "metadata": {},
   "outputs": [],
   "source": [
    "loader = TextLoader(\"../../state_of_the_union.txt\")\n",
    "documents = loader.load()\n",
    "text_splitter = CharacterTextSplitter(chunk_size=1000, chunk_overlap=0)\n",
    "texts = text_splitter.split_documents(documents)\n",
    "\n",
    "embeddings = OpenAIEmbeddings()\n",
    "docsearch = Chroma.from_documents(texts, embeddings)\n",
    "\n",
    "qa = RetrievalQA.from_chain_type(llm=OpenAI(), chain_type=\"stuff\", retriever=docsearch.as_retriever())"
   ]
  },
  {
   "cell_type": "code",
   "execution_count": null,
   "id": "d5bf142c",
   "metadata": {},
   "outputs": [],
   "source": []
  },
  {
   "cell_type": "code",
   "execution_count": null,
   "id": "6cad6ab7",
   "metadata": {},
   "outputs": [],
   "source": []
  },
  {
   "cell_type": "code",
   "execution_count": null,
   "id": "a72a6389",
   "metadata": {},
   "outputs": [],
   "source": []
  },
  {
   "cell_type": "code",
   "execution_count": null,
   "id": "586ceeb2",
   "metadata": {},
   "outputs": [],
   "source": []
  },
  {
   "cell_type": "code",
   "execution_count": null,
   "id": "a70e8bdb",
   "metadata": {},
   "outputs": [],
   "source": []
  },
  {
   "cell_type": "code",
   "execution_count": null,
   "id": "37b86f3b",
   "metadata": {},
   "outputs": [],
   "source": []
  },
  {
   "cell_type": "code",
   "execution_count": null,
   "id": "a01cb963",
   "metadata": {},
   "outputs": [],
   "source": []
  },
  {
   "cell_type": "code",
   "execution_count": null,
   "id": "daba82d9",
   "metadata": {},
   "outputs": [],
   "source": []
  },
  {
   "cell_type": "code",
   "execution_count": null,
   "id": "dc3a6017",
   "metadata": {},
   "outputs": [],
   "source": []
  }
 ],
 "metadata": {
  "kernelspec": {
   "display_name": "Python 3 (ipykernel)",
   "language": "python",
   "name": "python3"
  },
  "language_info": {
   "codemirror_mode": {
    "name": "ipython",
    "version": 3
   },
   "file_extension": ".py",
   "mimetype": "text/x-python",
   "name": "python",
   "nbconvert_exporter": "python",
   "pygments_lexer": "ipython3",
   "version": "3.9.7"
  }
 },
 "nbformat": 4,
 "nbformat_minor": 5
}
