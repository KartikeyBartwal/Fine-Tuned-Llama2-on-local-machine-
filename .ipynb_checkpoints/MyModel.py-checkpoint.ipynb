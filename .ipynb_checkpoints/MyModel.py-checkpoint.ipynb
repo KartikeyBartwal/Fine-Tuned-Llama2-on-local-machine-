{
 "cells": [
  {
   "cell_type": "code",
   "execution_count": 1,
   "id": "f7ef82fe",
   "metadata": {},
   "outputs": [],
   "source": [
    "from langchain import PromptTemplate\n",
    "from langchain.embeddings import HuggingFaceEmbeddings\n",
    "from langchain.vectorstores import Chroma\n",
    "from langchain.llms import CTransformers\n",
    "from langchain.chains import RetrievalQA\n",
    "import chainlit as cl"
   ]
  },
  {
   "cell_type": "code",
   "execution_count": 2,
   "id": "a6aefd9f",
   "metadata": {},
   "outputs": [],
   "source": [
    "DB_CHROMA_PATH = \"vectorstores/db_chroma\""
   ]
  },
  {
   "cell_type": "code",
   "execution_count": 3,
   "id": "f5b81e4f",
   "metadata": {},
   "outputs": [],
   "source": [
    "custom_prompt_template = ''' Use the following pieces of information to answer the user's question. If you don't know the answer, please just say that you don't know the answer, don't try to make up an answer.\n",
    "\n",
    "Context: {context}\n",
    "Question: {question}\n",
    "\n",
    "Only return the helpful answer below and nothing else\n",
    "'''"
   ]
  },
  {
   "cell_type": "code",
   "execution_count": 4,
   "id": "9a144eab",
   "metadata": {},
   "outputs": [],
   "source": [
    "def set_custom_prompt():\n",
    "    '''\n",
    "    prompt template for QA retrieval for each vector stores\n",
    "    '''\n",
    "    \n",
    "    prompt = PromptTemplate(template = custom_prompt_template , \n",
    "                           input_variables = [\"context\" , \"question\"])\n",
    "    \n",
    "    return prompt"
   ]
  },
  {
   "cell_type": "code",
   "execution_count": 5,
   "id": "b75b6226",
   "metadata": {},
   "outputs": [],
   "source": [
    "def load_llm():\n",
    "    llm = CTransformers(\n",
    "    \n",
    "        model = \"llama-2-7b-chat.ggmlv3.q8_0.bin\",\n",
    "        model_type = \"llama\",\n",
    "        max_new_tokens = 512,\n",
    "        temperature = 0.5\n",
    "    )\n",
    "    return llm"
   ]
  },
  {
   "cell_type": "code",
   "execution_count": 6,
   "id": "5e6453c2",
   "metadata": {},
   "outputs": [],
   "source": [
    "def retrieval_qa_chain(llm , prompt , db):\n",
    "    qa_chain = RetrievalQA.from_chain_type(\n",
    "        llm = llm,\n",
    "        chain_type = \"stuff\",\n",
    "        retriever = db.as_retriever(search_kwargs = {'k' : 2}),\n",
    "        return_source_documents = True,\n",
    "        chain_type_kwargs = {'prompt' : prompt}\n",
    "    )\n",
    "    \n",
    "    return qa_chain"
   ]
  },
  {
   "cell_type": "code",
   "execution_count": 7,
   "id": "784d6a59",
   "metadata": {},
   "outputs": [],
   "source": [
    "def qa_bot():\n",
    "    embeddings = HuggingFaceEmbeddings(model_name = 'sentence-transformers/all-MiniLM-L6-v2' , \n",
    "                                       model_kwargs = {'device' : 'cpu'})\n",
    "    db = Chroma(persist_directory = DB_CHROMA_PATH , \n",
    "                 embedding_function = embeddings)\n",
    "    llm = load_llm()\n",
    "    qa_prompt = set_custom_prompt()\n",
    "    qa = retrieval_qa_chain(llm , qa_prompt , db)\n",
    "    \n",
    "    return qa"
   ]
  },
  {
   "cell_type": "code",
   "execution_count": 8,
   "id": "56d7c577",
   "metadata": {},
   "outputs": [],
   "source": [
    "def final_result(query):\n",
    "    qa_result = qa_bot()\n",
    "    response = qa_result({'query' : query})\n",
    "    return response"
   ]
  },
  {
   "cell_type": "code",
   "execution_count": 9,
   "id": "5f177a46",
   "metadata": {},
   "outputs": [],
   "source": [
    "#################### Time for ChainLit #######################################################\n",
    "\n",
    "@cl.on_chat_start\n",
    "async def start():\n",
    "    chain = qa_bot()\n",
    "    msg = cl.Message(content = \"Starting your AI...\")\n",
    "    await msg.send()\n",
    "    msg.content = \"Hi, welcome to the medical bot. What is your query ? \"\n",
    "    await msg.update()\n",
    "    cl.user_session.set(\"chain\" , chain)\n",
    "\n",
    "@cl.on_message\n",
    "async def main(message):\n",
    "    chain = cl.user_session.get(\"chain\")\n",
    "    cb = cl.AsyncLangchainCallbackHandler(\n",
    "        stream_final_answer= True, answer_prefix_tokens=[\"FINAL\" , \"ANSWER\"]\n",
    "    )\n",
    "    cb.answer_reached = True \n",
    "    res = await chain.acall(message , callbacks = [cb])\n",
    "    answer = res[\"result\"]\n",
    "    sources = res[\"source_documents\"]\n",
    "\n",
    "    if(sources):\n",
    "        answer += f\"\\n Sources: \" + str(sources)\n",
    "    else:\n",
    "        answer += f\"\\n No sources found\"\n",
    "\n",
    "    await cl.Message(content = answer).send()"
   ]
  },
  {
   "cell_type": "code",
   "execution_count": null,
   "id": "2528a8bd",
   "metadata": {},
   "outputs": [],
   "source": []
  },
  {
   "cell_type": "code",
   "execution_count": null,
   "id": "c3a08740",
   "metadata": {},
   "outputs": [],
   "source": []
  },
  {
   "cell_type": "code",
   "execution_count": null,
   "id": "b18e88fc",
   "metadata": {},
   "outputs": [],
   "source": []
  }
 ],
 "metadata": {
  "kernelspec": {
   "display_name": "Python 3 (ipykernel)",
   "language": "python",
   "name": "python3"
  },
  "language_info": {
   "codemirror_mode": {
    "name": "ipython",
    "version": 3
   },
   "file_extension": ".py",
   "mimetype": "text/x-python",
   "name": "python",
   "nbconvert_exporter": "python",
   "pygments_lexer": "ipython3",
   "version": "3.9.7"
  }
 },
 "nbformat": 4,
 "nbformat_minor": 5
}
